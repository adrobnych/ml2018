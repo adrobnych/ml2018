{
 "cells": [
  {
   "cell_type": "markdown",
   "metadata": {},
   "source": [
    "# Python 3 – Quick Reference Card"
   ]
  },
  {
   "cell_type": "markdown",
   "metadata": {},
   "source": [
    "# Introduction\n",
    "\n",
    "Python is a modern, robust, high level programming language. It is very easy to pick up even if you are completely new to programming. \n",
    "\n",
    "Python, similar to other languages like matlab or R, is interpreted hence runs slowly compared to C++, Fortran or Java. However writing programs in Python is very quick. Python has a very large collection of libraries for everything from scientific computing to web services. It caters for object oriented and functional programming with module system that allows large and complex applications to be developed in Python. \n",
    "\n",
    "These lectures are using jupyter notebooks which mix Python code with documentation. The python notebooks can be run on a webserver or stand-alone on a computer.\n",
    "\n",
    "To give an indication of what Python code looks like, here is a simple bit of code that defines a set $N=\\{1,3,4,5,7\\}$ and calculates the sum of the squared elements of this set: $$\\sum_{i\\in N} i^2=100$$"
   ]
  },
  {
   "cell_type": "code",
   "execution_count": 35,
   "metadata": {},
   "outputs": [
    {
     "name": "stdout",
     "output_type": "stream",
     "text": [
      "The sum of ∑_i∈N i*i = 164\n"
     ]
    }
   ],
   "source": [
    "N={1,3,4,5,7,8}\n",
    "print('The sum of ∑_i∈N i*i =',sum( i**2 for i in N ) )"
   ]
  },
  {
   "cell_type": "markdown",
   "metadata": {},
   "source": [
    "# Basics"
   ]
  },
  {
   "cell_type": "markdown",
   "metadata": {},
   "source": [
    "Python can be used like a calculator. Simply type in expressions to get them evaluated.\n",
    "\n",
    "## Basic syntax for statements \n",
    "The basic rules for writing simple statments and expressions in Python are:\n",
    "* No spaces or tab characters allowed at the start of a statement: Indentation plays a special role in Python (see the section on control statements). For now simply ensure that all statements start at the beginning of the line.\n",
    "* The '#' character indicates that the rest of the line is a comment\n",
    "* Statements finish at the end of the line:\n",
    "  * Except when there is an open bracket or paranthesis:\n",
    "```python\n",
    "1+2\n",
    "+3  #illegal continuation of the sum\n",
    "(1+2\n",
    "             + 3) # perfectly OK even with spaces\n",
    "```\n",
    "  * A single backslash at the end of the line can also be used to indicate that a statement is still incomplete  \n",
    "```python\n",
    "1 + \\\n",
    "   2 + 3 # this is also OK\n",
    "```\n",
    "The jupyter notebook system for writting Python intersperses text (like this) with Python statements. Try typing something into the cell (box) below and press the 'run cell' button above (triangle+line symbol) to execute it."
   ]
  },
  {
   "cell_type": "code",
   "execution_count": 36,
   "metadata": {},
   "outputs": [
    {
     "data": {
      "text/plain": [
       "6"
      ]
     },
     "execution_count": 36,
     "metadata": {},
     "output_type": "execute_result"
    }
   ],
   "source": [
    "1+2+\\\n",
    "3"
   ]
  },
  {
   "cell_type": "code",
   "execution_count": 37,
   "metadata": {},
   "outputs": [
    {
     "data": {
      "text/plain": [
       "['D',\n",
       " 'In',\n",
       " 'L',\n",
       " 'L1',\n",
       " 'L2',\n",
       " 'N',\n",
       " 'Out',\n",
       " 'S1',\n",
       " 'S2',\n",
       " '_',\n",
       " '_1',\n",
       " '_10',\n",
       " '_11',\n",
       " '_12',\n",
       " '_13',\n",
       " '_14',\n",
       " '_15',\n",
       " '_18',\n",
       " '_2',\n",
       " '_28',\n",
       " '_29',\n",
       " '_3',\n",
       " '_31',\n",
       " '_36',\n",
       " '_4',\n",
       " '_5',\n",
       " '_6',\n",
       " '_7',\n",
       " '_9',\n",
       " '__',\n",
       " '___',\n",
       " '__builtin__',\n",
       " '__builtins__',\n",
       " '__doc__',\n",
       " '__loader__',\n",
       " '__name__',\n",
       " '__package__',\n",
       " '__spec__',\n",
       " '_dh',\n",
       " '_i',\n",
       " '_i1',\n",
       " '_i10',\n",
       " '_i11',\n",
       " '_i12',\n",
       " '_i13',\n",
       " '_i14',\n",
       " '_i15',\n",
       " '_i16',\n",
       " '_i17',\n",
       " '_i18',\n",
       " '_i19',\n",
       " '_i2',\n",
       " '_i20',\n",
       " '_i21',\n",
       " '_i22',\n",
       " '_i23',\n",
       " '_i24',\n",
       " '_i25',\n",
       " '_i26',\n",
       " '_i27',\n",
       " '_i28',\n",
       " '_i29',\n",
       " '_i3',\n",
       " '_i30',\n",
       " '_i31',\n",
       " '_i32',\n",
       " '_i33',\n",
       " '_i34',\n",
       " '_i35',\n",
       " '_i36',\n",
       " '_i37',\n",
       " '_i4',\n",
       " '_i5',\n",
       " '_i6',\n",
       " '_i7',\n",
       " '_i8',\n",
       " '_i9',\n",
       " '_ih',\n",
       " '_ii',\n",
       " '_iii',\n",
       " '_oh',\n",
       " 'a',\n",
       " 'b',\n",
       " 'c',\n",
       " 'd',\n",
       " 'exit',\n",
       " 'f',\n",
       " 'foo',\n",
       " 'get_ipython',\n",
       " 'i',\n",
       " 'k',\n",
       " 'keys',\n",
       " 'l',\n",
       " 'line',\n",
       " 'math',\n",
       " 'n',\n",
       " 'os',\n",
       " 'quit',\n",
       " 's',\n",
       " 'v',\n",
       " 'x',\n",
       " 'y']"
      ]
     },
     "execution_count": 37,
     "metadata": {},
     "output_type": "execute_result"
    }
   ],
   "source": []
  },
  {
   "cell_type": "markdown",
   "metadata": {},
   "source": []
  },
  {
   "cell_type": "markdown",
   "metadata": {},
   "source": [
    "## Data types"
   ]
  },
  {
   "cell_type": "markdown",
   "metadata": {},
   "source": [
    "Strings:"
   ]
  },
  {
   "cell_type": "code",
   "execution_count": 1,
   "metadata": {},
   "outputs": [
    {
     "data": {
      "text/plain": [
       "'foo bar'"
      ]
     },
     "execution_count": 1,
     "metadata": {},
     "output_type": "execute_result"
    }
   ],
   "source": [
    "s = \"foo bar\"\n",
    "s"
   ]
  },
  {
   "cell_type": "code",
   "execution_count": 2,
   "metadata": {},
   "outputs": [
    {
     "data": {
      "text/plain": [
       "'foo bar'"
      ]
     },
     "execution_count": 2,
     "metadata": {},
     "output_type": "execute_result"
    }
   ],
   "source": [
    "s = 'foo bar'\n",
    "s"
   ]
  },
  {
   "cell_type": "code",
   "execution_count": 3,
   "metadata": {},
   "outputs": [
    {
     "data": {
      "text/plain": [
       "'c:\\\\dir\\\\new'"
      ]
     },
     "execution_count": 3,
     "metadata": {},
     "output_type": "execute_result"
    }
   ],
   "source": [
    "s = r\"c:\\dir\\new\"                     # raw (== 'c:\\\\dir\\\\new')\n",
    "s"
   ]
  },
  {
   "cell_type": "code",
   "execution_count": 4,
   "metadata": {},
   "outputs": [
    {
     "name": "stdout",
     "output_type": "stream",
     "text": [
      "Hello\n",
      "       world\n",
      " fuz bfuz afuz z\n"
     ]
    },
    {
     "data": {
      "text/plain": [
       "18"
      ]
     },
     "execution_count": 4,
     "metadata": {},
     "output_type": "execute_result"
    }
   ],
   "source": [
    "s = \"\"\"Hello\n",
    "       world\"\"\"\n",
    "print(s)\n",
    "print(\"fuz \".join(\" baz\"))\n",
    "n = len(s)\n",
    "n"
   ]
  },
  {
   "cell_type": "code",
   "execution_count": 5,
   "metadata": {},
   "outputs": [
    {
     "data": {
      "text/plain": [
       "'Ala ma 2 psy i 3 koty'"
      ]
     },
     "execution_count": 5,
     "metadata": {},
     "output_type": "execute_result"
    }
   ],
   "source": [
    "\"Ala ma {} psy i {} koty\".format(2,3)"
   ]
  },
  {
   "cell_type": "code",
   "execution_count": 6,
   "metadata": {},
   "outputs": [
    {
     "data": {
      "text/plain": [
       "'Square root of 2 is equal to 1.41'"
      ]
     },
     "execution_count": 6,
     "metadata": {},
     "output_type": "execute_result"
    }
   ],
   "source": [
    "import math\n",
    "\n",
    "\"Square root of 2 is equal to {:.2f}\".format(math.sqrt(2))"
   ]
  },
  {
   "cell_type": "markdown",
   "metadata": {},
   "source": [
    "Lists:"
   ]
  },
  {
   "cell_type": "code",
   "execution_count": 7,
   "metadata": {},
   "outputs": [
    {
     "data": {
      "text/plain": [
       "[1, 2, 3, 4, 5]"
      ]
     },
     "execution_count": 7,
     "metadata": {},
     "output_type": "execute_result"
    }
   ],
   "source": [
    "L = [1, 2, 3, 4, 5]\n",
    "L"
   ]
  },
  {
   "cell_type": "code",
   "execution_count": 8,
   "metadata": {},
   "outputs": [
    {
     "name": "stdout",
     "output_type": "stream",
     "text": [
      "1\n",
      "[1, 2, 3]\n",
      "[4, 5]\n"
     ]
    }
   ],
   "source": [
    "print(L[0])                          # single position\n",
    "print(L[0:3])                                # the first three elements\n",
    "print(L[-2:])"
   ]
  },
  {
   "cell_type": "code",
   "execution_count": 9,
   "metadata": {},
   "outputs": [
    {
     "data": {
      "text/plain": [
       "[1, 7, 8, 5]"
      ]
     },
     "execution_count": 9,
     "metadata": {},
     "output_type": "execute_result"
    }
   ],
   "source": [
    "L[1:4] = [7,8]\n",
    "L"
   ]
  },
  {
   "cell_type": "code",
   "execution_count": 10,
   "metadata": {},
   "outputs": [
    {
     "data": {
      "text/plain": [
       "[1, 7, 5]"
      ]
     },
     "execution_count": 10,
     "metadata": {},
     "output_type": "execute_result"
    }
   ],
   "source": [
    "del L[2]\n",
    "L"
   ]
  },
  {
   "cell_type": "code",
   "execution_count": 11,
   "metadata": {},
   "outputs": [
    {
     "data": {
      "text/plain": [
       "[1, 7, 5, True]"
      ]
     },
     "execution_count": 11,
     "metadata": {},
     "output_type": "execute_result"
    }
   ],
   "source": [
    "L.append(True)\n",
    "L"
   ]
  },
  {
   "cell_type": "code",
   "execution_count": 12,
   "metadata": {},
   "outputs": [
    {
     "data": {
      "text/plain": [
       "[7, 5, True]"
      ]
     },
     "execution_count": 12,
     "metadata": {},
     "output_type": "execute_result"
    }
   ],
   "source": [
    "L.remove(True)\n",
    "L"
   ]
  },
  {
   "cell_type": "code",
   "execution_count": 13,
   "metadata": {},
   "outputs": [
    {
     "data": {
      "text/plain": [
       "[7, 5, True, 'a', 'b']"
      ]
     },
     "execution_count": 13,
     "metadata": {},
     "output_type": "execute_result"
    }
   ],
   "source": [
    "L2 = ['a', 'b']\n",
    "L.extend(L2)                          # or: L3 = L + L2\n",
    "L"
   ]
  },
  {
   "cell_type": "code",
   "execution_count": 14,
   "metadata": {},
   "outputs": [
    {
     "data": {
      "text/plain": [
       "[7, 5, True, 'a']"
      ]
     },
     "execution_count": 14,
     "metadata": {},
     "output_type": "execute_result"
    }
   ],
   "source": [
    "L.pop()                               # simple stack (with append)\n",
    "L"
   ]
  },
  {
   "cell_type": "code",
   "execution_count": 15,
   "metadata": {},
   "outputs": [
    {
     "name": "stdout",
     "output_type": "stream",
     "text": [
      "[1, 2, 4, 5, 5, 22]\n",
      "False\n",
      "5\n"
     ]
    },
    {
     "data": {
      "text/plain": [
       "[8, 10, 10, 44]"
      ]
     },
     "execution_count": 15,
     "metadata": {},
     "output_type": "execute_result"
    }
   ],
   "source": [
    "L = [2,1,4,22,5,5]\n",
    "L.sort()\n",
    "print(L)\n",
    "print('a' in L)                               # does L contain x?\n",
    "print(L.index(22))                            # index of the first occurrence\n",
    "[x*2 for x in L if x>2]               # list comprehensions"
   ]
  },
  {
   "cell_type": "markdown",
   "metadata": {},
   "source": [
    "Tuples:"
   ]
  },
  {
   "cell_type": "code",
   "execution_count": 16,
   "metadata": {},
   "outputs": [
    {
     "name": "stdout",
     "output_type": "stream",
     "text": [
      "(1, 2, 3)\n",
      "(1, 2, 3)\n",
      "2\n",
      "1\n",
      "2\n",
      "3\n"
     ]
    }
   ],
   "source": [
    "x = 1,2,3\n",
    "print(x)\n",
    "x = (1,2,3)\n",
    "print(x)\n",
    "print(x[1])\n",
    "a,b,c = x\n",
    "print(a)\n",
    "print(b)\n",
    "print(c)"
   ]
  },
  {
   "cell_type": "markdown",
   "metadata": {},
   "source": [
    "Dictionaries:"
   ]
  },
  {
   "cell_type": "code",
   "execution_count": 17,
   "metadata": {},
   "outputs": [
    {
     "name": "stdout",
     "output_type": "stream",
     "text": [
      "{'f1': 10, 'f2': 20}\n",
      "{'f2': 20, 'f1': 10}\n",
      "{'a': None, 'c': None, 'b': None}\n"
     ]
    }
   ],
   "source": [
    "D = {'f1': 10, 'f2': 20}              # dict creation\n",
    "print(D)\n",
    "D = dict(f1=10, f2=20)\n",
    "print(D)\n",
    "\n",
    "keys = ('a', 'b', 'c')\n",
    "D = dict.fromkeys(keys)               # new dict with empty values\n",
    "print(D)"
   ]
  },
  {
   "cell_type": "code",
   "execution_count": 18,
   "metadata": {},
   "outputs": [
    {
     "name": "stdout",
     "output_type": "stream",
     "text": [
      "a\n",
      "c\n",
      "b\n",
      "None\n",
      "None\n",
      "None\n",
      "a None\n",
      "c None\n",
      "b None\n",
      "['a', 'c', 'b']\n"
     ]
    },
    {
     "data": {
      "text/plain": [
       "['a', 'b', 'c']"
      ]
     },
     "execution_count": 18,
     "metadata": {},
     "output_type": "execute_result"
    }
   ],
   "source": [
    "for k in D: print(k)                  # keys\n",
    "for v in D.values(): print(v)         # values\n",
    "for k, v in D.items():                # tuples with keys and values\n",
    "    print(k, v)\n",
    "print(list(D.keys()))                       # list of keys\n",
    "sorted(D.keys())                      # sorted list of keys"
   ]
  },
  {
   "cell_type": "code",
   "execution_count": 19,
   "metadata": {},
   "outputs": [
    {
     "name": "stdout",
     "output_type": "stream",
     "text": [
      "100\n",
      "-1\n"
     ]
    }
   ],
   "source": [
    "D = {}\n",
    "D[(1,8,5)] = 100                      # 3D sparse matrix\n",
    "print(D.get((1,8,5)))\n",
    "print(D.get((1,1,1), -1))"
   ]
  },
  {
   "cell_type": "code",
   "execution_count": 20,
   "metadata": {},
   "outputs": [
    {
     "name": "stdout",
     "output_type": "stream",
     "text": [
      "<class 'set'>\n",
      "<class 'set'>\n",
      "{1, 3, 5}\n",
      "{1, 3} {9} {9, 5} {1, 3, 5, 9}\n"
     ]
    }
   ],
   "source": [
    "S1 = {1,3,9}\n",
    "print(type(S1))\n",
    "L = [1, 3, 1, 5, 3]\n",
    "S2 = set(L)                           # set([1, 3, 5])\n",
    "print(type(S2))\n",
    "print(S2)\n",
    "if (3 in S1):\n",
    "    print(S1&S2, S1-S2, S1^S2, S1|S2)"
   ]
  },
  {
   "cell_type": "markdown",
   "metadata": {},
   "source": [
    "## Loops"
   ]
  },
  {
   "cell_type": "code",
   "execution_count": 21,
   "metadata": {},
   "outputs": [
    {
     "name": "stdout",
     "output_type": "stream",
     "text": [
      "0\n",
      "1\n",
      "2\n",
      "3\n",
      "4\n",
      "5\n",
      "\n",
      "1\n",
      "2\n",
      "3\n",
      "4\n",
      "5\n",
      "\n",
      "1\n",
      "3\n",
      "5\n"
     ]
    }
   ],
   "source": [
    "for x in range(6):                    # 0, 1, 2, 3, 4, 5\n",
    "    print(x)\n",
    "    \n",
    "print()\n",
    "for x in range(1,6):                  # 1, 2, 3, 4, 5\n",
    "    print(x)\n",
    "    \n",
    "print()\n",
    "for x in range(1,6,2):                # 1, 3, 5\n",
    "    print(x)\n"
   ]
  },
  {
   "cell_type": "code",
   "execution_count": 22,
   "metadata": {},
   "outputs": [
    {
     "name": "stdout",
     "output_type": "stream",
     "text": [
      "D[(1, 8, 5)]=100\n"
     ]
    }
   ],
   "source": [
    "for k,v in D.items():\n",
    "    print(\"D[{}]={}\".format(k,v))     # D[f1]=10  D[f2]=20"
   ]
  },
  {
   "cell_type": "code",
   "execution_count": 23,
   "metadata": {},
   "outputs": [
    {
     "name": "stdout",
     "output_type": "stream",
     "text": [
      "0 1\n",
      "1 3\n",
      "2 5\n",
      "3 5\n",
      "\n",
      "1 a\n",
      "2 b\n",
      "3 c\n",
      "\n",
      "1\n",
      "3\n",
      "5\n",
      "\n",
      "3\n",
      "2\n",
      "1\n"
     ]
    }
   ],
   "source": [
    "L = [1, 3, 5, 5]\n",
    "for i,v in enumerate(L):              # (index,value)\n",
    "    print(i,v)\n",
    "    \n",
    "print()\n",
    "L1 = [1,2,3]\n",
    "L2 = ['a', 'b', 'c']\n",
    "for x,y in zip(L1,L2):                # returns tuples\n",
    "    print(x,y)\n",
    "    \n",
    "print()\n",
    "for i in sorted(set(L)): print(i)     # sorted set from a list\n",
    "    \n",
    "print()\n",
    "for x in reversed(L1):\n",
    "    print(x)"
   ]
  },
  {
   "cell_type": "markdown",
   "metadata": {},
   "source": [
    "## Functions:"
   ]
  },
  {
   "cell_type": "code",
   "execution_count": 24,
   "metadata": {},
   "outputs": [],
   "source": [
    "def foo(arg1, *args, **dic):\n",
    "    \"\"\"Example documentation string.\n",
    "\n",
    "    This function does not do anything special.\n",
    "    \"\"\"\n",
    "    # arg1 is a positional argument\n",
    "    # args is a list\n",
    "    # dic is a dictionary of named arguments\n",
    "    pass"
   ]
  },
  {
   "cell_type": "code",
   "execution_count": 25,
   "metadata": {},
   "outputs": [
    {
     "name": "stdout",
     "output_type": "stream",
     "text": [
      "foo() missing 1 required positional argument: 'b'\n"
     ]
    }
   ],
   "source": [
    "def foo(a,b,c=0):\n",
    "    print('a=', a)\n",
    "    print('b=', b)\n",
    "    print('c=', c)\n",
    "    \n",
    "try:\n",
    "    foo(1)\n",
    "except TypeError as err:\n",
    "    print(err)"
   ]
  },
  {
   "cell_type": "code",
   "execution_count": 26,
   "metadata": {},
   "outputs": [
    {
     "name": "stdout",
     "output_type": "stream",
     "text": [
      "a= 1\n",
      "b= 2\n",
      "c= 0\n"
     ]
    }
   ],
   "source": [
    "foo(1, 2)"
   ]
  },
  {
   "cell_type": "code",
   "execution_count": 27,
   "metadata": {},
   "outputs": [
    {
     "name": "stdout",
     "output_type": "stream",
     "text": [
      "a= 1\n",
      "b= 2\n",
      "c= 3\n",
      "a= 10\n",
      "b= 20\n",
      "c= 0\n",
      "None\n"
     ]
    }
   ],
   "source": [
    "L = [1, 2, 3]\n",
    "foo(*L)                               # unpacking a list of arguments\n",
    "D = {'a': 10, 'b': 20}\n",
    "foo(**D)                              # unpacking a dictionary of arguments\n",
    "\n",
    "print(foo.__doc__)                           # the docstring"
   ]
  },
  {
   "cell_type": "markdown",
   "metadata": {},
   "source": [
    "## Input/output"
   ]
  },
  {
   "cell_type": "markdown",
   "metadata": {},
   "source": [
    "Printing:"
   ]
  },
  {
   "cell_type": "code",
   "execution_count": 28,
   "metadata": {},
   "outputs": [
    {
     "data": {
      "text/plain": [
       "\"[{'a': 1, 'b': <function foo at 0x7f3127b66510>}]\""
      ]
     },
     "execution_count": 28,
     "metadata": {},
     "output_type": "execute_result"
    }
   ],
   "source": [
    "d = {'a': 1, 'b': foo}\n",
    "l = [d]\n",
    "\n",
    "str(l)                                # human readable representation"
   ]
  },
  {
   "cell_type": "code",
   "execution_count": 29,
   "metadata": {},
   "outputs": [
    {
     "data": {
      "text/plain": [
       "\"[{'a': 1, 'b': <function foo at 0x7f3127b66510>}]\""
      ]
     },
     "execution_count": 29,
     "metadata": {},
     "output_type": "execute_result"
    }
   ],
   "source": [
    "repr(l)                               # interpretable representation"
   ]
  },
  {
   "cell_type": "markdown",
   "metadata": {},
   "source": [
    "File access:"
   ]
  },
  {
   "cell_type": "code",
   "execution_count": 30,
   "metadata": {},
   "outputs": [
    {
     "name": "stdout",
     "output_type": "stream",
     "text": [
      "Ala ma kota\n"
     ]
    }
   ],
   "source": [
    "f = open(\"test.txt\", \"w\")             # r / r+ / rb / rb+ / w / wb\n",
    "f.write(\"Ala ma kota\\n\")\n",
    "f.close()\n",
    "\n",
    "for line in open(\"test.txt\"): print(line, end=\"\")\n",
    "\n",
    "L = open(\"test.txt\").readlines()      # returns a list of lines"
   ]
  },
  {
   "cell_type": "markdown",
   "metadata": {},
   "source": [
    "Exclusive access:"
   ]
  },
  {
   "cell_type": "code",
   "execution_count": 31,
   "metadata": {},
   "outputs": [
    {
     "data": {
      "text/plain": [
       "2"
      ]
     },
     "execution_count": 31,
     "metadata": {},
     "output_type": "execute_result"
    }
   ],
   "source": [
    "import os\n",
    "f = os.fdopen(os.open(\"test.txt\", os.O_WRONLY|os.O_EXCL), \"w\")\n",
    "f.write(\"yo\")"
   ]
  },
  {
   "cell_type": "markdown",
   "metadata": {},
   "source": [
    "Input:\n"
   ]
  },
  {
   "cell_type": "code",
   "execution_count": 32,
   "metadata": {},
   "outputs": [],
   "source": [
    "#import sys\n",
    "#print (sys.platform)\n",
    "#x = input(\"Name: \")\n",
    "#print(x)"
   ]
  },
  {
   "cell_type": "markdown",
   "metadata": {},
   "source": [
    "String buffers:"
   ]
  },
  {
   "cell_type": "code",
   "execution_count": 33,
   "metadata": {},
   "outputs": [],
   "source": [
    "#from io import StringIO\n",
    "#import sys\n",
    "\n",
    "#buf = StringIO()\n",
    "#old_stdout = sys.stdout\n",
    "#sys.stdout = buf\n",
    "#print(\"Hello\")\n",
    "#x = buf.getvalue()\n",
    "\n",
    "#sys.stdout = old_stdout\n",
    "#print(\"Hello2\")\n",
    "\n",
    "#x"
   ]
  },
  {
   "cell_type": "markdown",
   "metadata": {},
   "source": [
    "Error stream:"
   ]
  },
  {
   "cell_type": "code",
   "execution_count": 34,
   "metadata": {},
   "outputs": [
    {
     "ename": "NameError",
     "evalue": "name 'sys' is not defined",
     "output_type": "error",
     "traceback": [
      "\u001b[0;31m---------------------------------------------------------------------------\u001b[0m",
      "\u001b[0;31mNameError\u001b[0m                                 Traceback (most recent call last)",
      "\u001b[0;32m<ipython-input-34-fbe4e2c5e1b5>\u001b[0m in \u001b[0;36m<module>\u001b[0;34m()\u001b[0m\n\u001b[0;32m----> 1\u001b[0;31m \u001b[0mprint\u001b[0m\u001b[0;34m(\u001b[0m\u001b[0;34m\"Error!\"\u001b[0m\u001b[0;34m,\u001b[0m \u001b[0mfile\u001b[0m\u001b[0;34m=\u001b[0m\u001b[0msys\u001b[0m\u001b[0;34m.\u001b[0m\u001b[0mstderr\u001b[0m\u001b[0;34m,\u001b[0m \u001b[0mflush\u001b[0m\u001b[0;34m=\u001b[0m\u001b[0;32mTrue\u001b[0m\u001b[0;34m)\u001b[0m\u001b[0;34m\u001b[0m\u001b[0m\n\u001b[0m",
      "\u001b[0;31mNameError\u001b[0m: name 'sys' is not defined"
     ]
    }
   ],
   "source": [
    "print(\"Error!\", file=sys.stderr, flush=True)"
   ]
  },
  {
   "cell_type": "markdown",
   "metadata": {},
   "source": [
    "Special names"
   ]
  },
  {
   "cell_type": "code",
   "execution_count": null,
   "metadata": {},
   "outputs": [],
   "source": [
    "globals()['__name__']"
   ]
  },
  {
   "cell_type": "markdown",
   "metadata": {},
   "source": [
    "code under the if block will only run if the module is the entry point to your program."
   ]
  },
  {
   "cell_type": "code",
   "execution_count": null,
   "metadata": {},
   "outputs": [],
   "source": [
    "def main():\n",
    "    \"\"\"business logic for when running this module as the primary one!\"\"\"\n",
    "    print('running')\n",
    "\n",
    "# Here's our payoff idiom!\n",
    "if __name__ == '__main__':\n",
    "    main()"
   ]
  },
  {
   "cell_type": "markdown",
   "metadata": {},
   "source": [
    "Exceptions"
   ]
  },
  {
   "cell_type": "code",
   "execution_count": null,
   "metadata": {},
   "outputs": [],
   "source": [
    "import traceback\n",
    "\n",
    "try:\n",
    "    raise TypeError(\"arg\")\n",
    "except (RuntimeError, NameError):\n",
    "    pass                              # empty instruction (NOP)\n",
    "except:\n",
    "    info = sys.exc_info()\n",
    "    print(info[0])\n",
    "    print(info[1])\n",
    "    traceback.print_tb(info[2])\n",
    "    # raise\n",
    "else:\n",
    "    print('someting')                               # no exception but before finally\n",
    "finally:                              # on the way out\n",
    "    print('in finally')                               # unhandled exc, release resources\n"
   ]
  },
  {
   "cell_type": "markdown",
   "metadata": {},
   "source": [
    "# Object-oriented programming"
   ]
  },
  {
   "cell_type": "code",
   "execution_count": null,
   "metadata": {},
   "outputs": [],
   "source": [
    "class Person:\n",
    "    ID = 0                            # static variable\n",
    "    def __init__(self, name, age=0):\n",
    "        self.name = name\n",
    "        self.age  = age\n",
    "        Person.ID += 1\n",
    "        self.ID = Person.ID\n",
    "    def lastName(self):\n",
    "        return self.name.split()[-1]\n",
    "    def __str__(self):\n",
    "        return \"{}({},{})\".format(self.__class__.__name__,\n",
    "                                  self.name, self.age)\n",
    "\n",
    "class Worker(Person):\n",
    "    def __init__(self, name, position, age=0):\n",
    "        super().__init__(name, age)\n",
    "        self.position = position\n",
    "    def __str__(self):\n",
    "        return \"{}({},{},{})\".format(self.__class__.__name__,\n",
    "                                   self.name, self.position, self.age)\n",
    "\n",
    "bob = Worker(\"Bob Smith\", \"developer\", 25)\n",
    "print(bob)"
   ]
  },
  {
   "cell_type": "markdown",
   "metadata": {},
   "source": [
    "## Useful APIs"
   ]
  },
  {
   "cell_type": "markdown",
   "metadata": {},
   "source": [
    "Queues:"
   ]
  },
  {
   "cell_type": "code",
   "execution_count": null,
   "metadata": {},
   "outputs": [],
   "source": [
    "import collections\n",
    "Q = collections.deque([10,20,30])\n",
    "Q.append(40)\n",
    "Q.popleft()"
   ]
  },
  {
   "cell_type": "markdown",
   "metadata": {},
   "source": [
    "Pickling:"
   ]
  },
  {
   "cell_type": "code",
   "execution_count": null,
   "metadata": {},
   "outputs": [],
   "source": [
    "import pickle\n",
    "\n",
    "f = open(\"myobj.dat\", \"wb\")\n",
    "pickle.dump(bob, f)\n",
    "f = open(\"myobj.dat\", \"rb\")\n",
    "x = pickle.load(f)\n",
    "x.lastName()"
   ]
  },
  {
   "cell_type": "markdown",
   "metadata": {},
   "source": [
    "Databases:"
   ]
  },
  {
   "cell_type": "code",
   "execution_count": null,
   "metadata": {},
   "outputs": [],
   "source": [
    "import sqlite3\n",
    "\n",
    "sql_dump = '''\n",
    "CREATE TABLE IF NOT EXISTS projects (\n",
    " id integer PRIMARY KEY,\n",
    " name text NOT NULL,\n",
    " begin_date text,\n",
    " end_date text\n",
    ");\n",
    "\n",
    "\n",
    "'''\n",
    "\n",
    "conn = sqlite3.connect(\"data.db\")\n",
    "c = conn.cursor()\n",
    "\n",
    "c.execute(sql_dump)\n",
    "\n",
    "c.execute(\"SELECT * FROM projects\")\n",
    "for row in c:\n",
    "    print(row[0])\n",
    "conn.commit()\n",
    "conn.close()\n",
    "\n",
    "import shelve\n",
    "\n",
    "d = shelve.open(\"file\")\n",
    "\n",
    "key = 'akey'\n",
    "\n",
    "db[key] = bob                      # store data at key (overwrites old data if\n",
    "                           # using an existing key)\n",
    "data = d[key]              # retrieve a COPY of data at key (raise KeyError\n",
    "                           # if no such key)\n",
    "    \n",
    "print(data.lastName())\n",
    "del d[key]                 # delete data stored at key (raises KeyError\n",
    "                           # if no such key)\n",
    "\n",
    "flag = key in d            # true if the key exists\n",
    "#klist = list(d.keys())     # a list of all existing keys (slow!)\n",
    "\n",
    "# as d was opened WITHOUT writeback=True, beware:\n",
    "d['xx'] = [0, 1, 2]        # this works as expected, but...\n",
    "d['xx'].append(3)          # *this doesn't!* -- d['xx'] is STILL [0, 1, 2]!\n",
    "\n",
    "# having opened d without writeback=True, you need to code carefully:\n",
    "temp = d['xx']             # extracts the copy\n",
    "temp.append(5)             # mutates the copy\n",
    "d['xx'] = temp             # stores the copy right back, to persist it\n",
    "\n",
    "print(d['xx'])\n",
    "\n",
    "# or, d=shelve.open(filename,writeback=True) would let you just code\n",
    "# d['xx'].append(5) and have it work as expected, BUT it would also\n",
    "# consume more memory and make the d.close() operation slower.\n",
    "d.close()"
   ]
  },
  {
   "cell_type": "markdown",
   "metadata": {},
   "source": [
    "# HTTP Server"
   ]
  },
  {
   "cell_type": "code",
   "execution_count": null,
   "metadata": {},
   "outputs": [],
   "source": []
  },
  {
   "cell_type": "markdown",
   "metadata": {},
   "source": [
    "# Requests"
   ]
  },
  {
   "cell_type": "code",
   "execution_count": null,
   "metadata": {},
   "outputs": [],
   "source": []
  },
  {
   "cell_type": "markdown",
   "metadata": {},
   "source": [
    "# Koans"
   ]
  },
  {
   "cell_type": "code",
   "execution_count": 1,
   "metadata": {},
   "outputs": [],
   "source": [
    "import unittest\n",
    "\n",
    "__ = \"FILL ME IN\""
   ]
  },
  {
   "cell_type": "code",
   "execution_count": 2,
   "metadata": {},
   "outputs": [
    {
     "name": "stderr",
     "output_type": "stream",
     "text": [
      "..F\n",
      "======================================================================\n",
      "FAIL: test_upper (__main__.TestStringMethods)\n",
      "----------------------------------------------------------------------\n",
      "Traceback (most recent call last):\n",
      "  File \"<ipython-input-2-dec0a2eab1d6>\", line 7, in test_upper\n",
      "    self.assertEqual(__, 1 + 1)\n",
      "AssertionError: 'FILL ME IN' != 2\n",
      "\n",
      "----------------------------------------------------------------------\n",
      "Ran 3 tests in 0.002s\n",
      "\n",
      "FAILED (failures=1)\n"
     ]
    },
    {
     "data": {
      "text/plain": [
       "<unittest.runner.TextTestResult run=3 errors=0 failures=1>"
      ]
     },
     "execution_count": 2,
     "metadata": {},
     "output_type": "execute_result"
    }
   ],
   "source": [
    "class TestStringMethods(unittest.TestCase):\n",
    "\n",
    "    def test_upper(self):\n",
    "        \"\"\"\n",
    "        Sometimes we will ask you to fill in the values\n",
    "        \"\"\"\n",
    "        self.assertEqual(__, 1 + 1)\n",
    "\n",
    "    def test_isupper(self):\n",
    "        self.assertTrue('FOO'.isupper())\n",
    "        self.assertFalse('Foo'.isupper())\n",
    "\n",
    "    def test_split(self):\n",
    "        s = 'hello world'\n",
    "        self.assertEqual(s.split(), ['hello', 'world'])\n",
    "        # check that s.split fails when the separator is not a string\n",
    "        with self.assertRaises(TypeError):\n",
    "            s.split(2)\n",
    "\n",
    "\n",
    "test_suite = unittest.TestSuite()\n",
    "test_suite.addTest(unittest.makeSuite(TestStringMethods))\n",
    "runner=unittest.TextTestRunner()\n",
    "runner.run(test_suite)\n"
   ]
  },
  {
   "cell_type": "code",
   "execution_count": null,
   "metadata": {},
   "outputs": [],
   "source": [
    "class TestStringMethods(unittest.TestCase):\n",
    "\n",
    "    def test_some_other_test(self):\n",
    "        self.assertTrue('FOO'.isupper())\n",
    "        self.assertFalse('Foo'.isupper())\n",
    "\n",
    "\n",
    "test_suite = unittest.TestSuite()\n",
    "test_suite.addTest(unittest.makeSuite(TestStringMethods))\n",
    "runner=unittest.TextTestRunner()\n",
    "runner.run(test_suite)\n"
   ]
  },
  {
   "cell_type": "code",
   "execution_count": null,
   "metadata": {},
   "outputs": [],
   "source": [
    "raise TypeError(\"arg\")"
   ]
  },
  {
   "cell_type": "code",
   "execution_count": null,
   "metadata": {},
   "outputs": [],
   "source": []
  }
 ],
 "metadata": {
  "kernelspec": {
   "display_name": "Python 3",
   "language": "python",
   "name": "python3"
  },
  "language_info": {
   "codemirror_mode": {
    "name": "ipython",
    "version": 3
   },
   "file_extension": ".py",
   "mimetype": "text/x-python",
   "name": "python",
   "nbconvert_exporter": "python",
   "pygments_lexer": "ipython3",
   "version": "3.5.3"
  }
 },
 "nbformat": 4,
 "nbformat_minor": 2
}
